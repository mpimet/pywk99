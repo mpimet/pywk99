{
 "cells": [
  {
   "cell_type": "code",
   "execution_count": 1,
   "metadata": {},
   "outputs": [],
   "source": [
    "import urllib.request"
   ]
  },
  {
   "cell_type": "code",
   "execution_count": null,
   "metadata": {},
   "outputs": [],
   "source": [
    "# download NOAA OLR data\n",
    "url = 'https://downloads.psl.noaa.gov/Datasets/interp_OLR/olr.2xdaily.1979-2022.nc'\n",
    "filename = url.split(\"/\")[-1]\n",
    "print(\"downloading: \", url)\n",
    "urllib.request.urlretrieve(url, filename)"
   ]
  },
  {
   "cell_type": "code",
   "execution_count": null,
   "metadata": {},
   "outputs": [],
   "source": [
    "# download NCEP reanalysis SLP data\n",
    "for year in range(1979, 1996):\n",
    "    url = f'https://downloads.psl.noaa.gov/Datasets/ncep.reanalysis.dailyavgs/surface/slp.{year}.nc'\n",
    "    filename = url.split(\"/\")[-1]\n",
    "    print(\"downloading: \", url)\n",
    "    urllib.request.urlretrieve(url, filename)"
   ]
  }
 ],
 "metadata": {
  "kernelspec": {
   "display_name": "pywk",
   "language": "python",
   "name": "python3"
  },
  "language_info": {
   "codemirror_mode": {
    "name": "ipython",
    "version": 3
   },
   "file_extension": ".py",
   "mimetype": "text/x-python",
   "name": "python",
   "nbconvert_exporter": "python",
   "pygments_lexer": "ipython3",
   "version": "3.13.1"
  }
 },
 "nbformat": 4,
 "nbformat_minor": 2
}
